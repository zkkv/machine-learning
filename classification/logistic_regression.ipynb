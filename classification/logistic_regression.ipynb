{
 "cells": [
  {
   "cell_type": "markdown",
   "metadata": {},
   "source": [
    "# Logistic Regression\n",
    "\n",
    "This notebook explores the logistic regression classification algorithm. "
   ]
  },
  {
   "cell_type": "code",
   "execution_count": 1,
   "metadata": {},
   "outputs": [],
   "source": [
    "from ucimlrepo import fetch_ucirepo\n",
    "import matplotlib.pyplot as plt\n",
    "import numpy as np\n",
    "import pandas as pd\n",
    "import scipy.optimize"
   ]
  },
  {
   "cell_type": "code",
   "execution_count": 2,
   "metadata": {},
   "outputs": [
    {
     "data": {
      "text/html": [
       "<div>\n",
       "<style scoped>\n",
       "    .dataframe tbody tr th:only-of-type {\n",
       "        vertical-align: middle;\n",
       "    }\n",
       "\n",
       "    .dataframe tbody tr th {\n",
       "        vertical-align: top;\n",
       "    }\n",
       "\n",
       "    .dataframe thead th {\n",
       "        text-align: right;\n",
       "    }\n",
       "</style>\n",
       "<table border=\"1\" class=\"dataframe\">\n",
       "  <thead>\n",
       "    <tr style=\"text-align: right;\">\n",
       "      <th></th>\n",
       "      <th>name</th>\n",
       "      <th>role</th>\n",
       "      <th>type</th>\n",
       "      <th>demographic</th>\n",
       "      <th>description</th>\n",
       "      <th>units</th>\n",
       "      <th>missing_values</th>\n",
       "    </tr>\n",
       "  </thead>\n",
       "  <tbody>\n",
       "    <tr>\n",
       "      <th>0</th>\n",
       "      <td>sepal length</td>\n",
       "      <td>Feature</td>\n",
       "      <td>Continuous</td>\n",
       "      <td>None</td>\n",
       "      <td>None</td>\n",
       "      <td>cm</td>\n",
       "      <td>no</td>\n",
       "    </tr>\n",
       "    <tr>\n",
       "      <th>1</th>\n",
       "      <td>sepal width</td>\n",
       "      <td>Feature</td>\n",
       "      <td>Continuous</td>\n",
       "      <td>None</td>\n",
       "      <td>None</td>\n",
       "      <td>cm</td>\n",
       "      <td>no</td>\n",
       "    </tr>\n",
       "    <tr>\n",
       "      <th>2</th>\n",
       "      <td>petal length</td>\n",
       "      <td>Feature</td>\n",
       "      <td>Continuous</td>\n",
       "      <td>None</td>\n",
       "      <td>None</td>\n",
       "      <td>cm</td>\n",
       "      <td>no</td>\n",
       "    </tr>\n",
       "    <tr>\n",
       "      <th>3</th>\n",
       "      <td>petal width</td>\n",
       "      <td>Feature</td>\n",
       "      <td>Continuous</td>\n",
       "      <td>None</td>\n",
       "      <td>None</td>\n",
       "      <td>cm</td>\n",
       "      <td>no</td>\n",
       "    </tr>\n",
       "    <tr>\n",
       "      <th>4</th>\n",
       "      <td>class</td>\n",
       "      <td>Target</td>\n",
       "      <td>Categorical</td>\n",
       "      <td>None</td>\n",
       "      <td>class of iris plant: Iris Setosa, Iris Versico...</td>\n",
       "      <td>None</td>\n",
       "      <td>no</td>\n",
       "    </tr>\n",
       "  </tbody>\n",
       "</table>\n",
       "</div>"
      ],
      "text/plain": [
       "           name     role         type demographic  \\\n",
       "0  sepal length  Feature   Continuous        None   \n",
       "1   sepal width  Feature   Continuous        None   \n",
       "2  petal length  Feature   Continuous        None   \n",
       "3   petal width  Feature   Continuous        None   \n",
       "4         class   Target  Categorical        None   \n",
       "\n",
       "                                         description units missing_values  \n",
       "0                                               None    cm             no  \n",
       "1                                               None    cm             no  \n",
       "2                                               None    cm             no  \n",
       "3                                               None    cm             no  \n",
       "4  class of iris plant: Iris Setosa, Iris Versico...  None             no  "
      ]
     },
     "execution_count": 2,
     "metadata": {},
     "output_type": "execute_result"
    }
   ],
   "source": [
    "iris = fetch_ucirepo(id=53) \n",
    "iris.variables"
   ]
  },
  {
   "cell_type": "code",
   "execution_count": 3,
   "metadata": {},
   "outputs": [],
   "source": [
    "m = 150  # Number of points to use\n",
    "\n",
    "petal_length = iris.data.features[\"petal length\"][:m]\n",
    "petal_width = iris.data.features[\"petal width\"][:m]\n",
    "\n",
    "X = np.stack((np.ones(m), petal_length, petal_width)).T\n",
    "y = pd.Categorical(iris.data.targets[\"class\"]).codes\n",
    "\n",
    "# Keep just two classes for simplicity\n",
    "keep_idx = np.argwhere(y != 0).flatten()\n",
    "X = X[keep_idx]\n",
    "y = y[keep_idx]\n",
    "y = y - 1  # Relabel classes"
   ]
  },
  {
   "cell_type": "markdown",
   "metadata": {},
   "source": [
    "In linear regression the hypothesis function $h_\\theta(x)$ is equal to $\\theta^T x$. In logistic regression we do one extra step and input that dot product into the function $g(z)$:\n",
    "$$\n",
    "g(z) = \\frac{1}{1 + \\exp(-z)}\n",
    "$$\n",
    "\n",
    "This maps the values to the range $[0, 1]$ smoothly.\n",
    "\n",
    "So,\n",
    "$$\n",
    "h_\\theta(x) = \\frac{1}{1 + \\exp(-\\theta^T x)}\n",
    "$$\n",
    "\n",
    "Let's consider a binary classification model, i.e. only two classes are possible, 0 and 1. Ideally, our function $h_\\theta(x)$ would be a good estimate of probability. In other words:\n",
    "$$\n",
    "\\begin{align*}\n",
    "P(y = 1 \\vert x; \\theta) &= h_\\theta(x)\\\\\n",
    "P(y = 0 \\vert x; \\theta) &= 1 - h_\\theta(x)\n",
    "\\end{align*}\n",
    "$$\n",
    "\n",
    "Read the above as \"probability of y being equal to 1 (or 0), given x and parameterized by theta\".\n",
    "\n",
    "The exact same can be compactly written as:\n",
    "$$\n",
    "p(y \\vert x; \\theta) = (h(x))^y (1 - h(x))^{1 - y}\n",
    "$$\n",
    "\n",
    "Next, we introduce the **likelihood of parameters** which is a function $L(\\theta)$. It is effectively equal to the probability density of the data $p(y \\vert X; \\theta)$, but we simply look at it from a different perspective. \n",
    "\n",
    "When we're concerned with the probability of data, we're free to change the data, but the parameters stay fixed. When we talk about the likelihood of parameters, the parameters can change, but the (training) data itself remains fixed. Likelihood is explicitly a function of parameters, even though, technically, probability also depends on them. \n",
    "\n",
    "This change of perspective allows us to look for the best set of parameters for the data we observed. \"The best\" meaning the one that maximizes the chance of observing that data, or the likelihood function itself. This is known as **maximum likelihood principle**.\n",
    "\n",
    "We make one important assumption in this model: data is independently and identically distributed (i.i.d.). This allows us to calculate the likelihood as follows:\n",
    "$$\n",
    "\\begin{align*}\n",
    "L(\\theta) &= p(y \\vert X; \\theta)\\\\\n",
    "&= \\prod_{i = 1}^{m} p(y^{(i)} \\vert x^{(i)}; \\theta)\\\\\n",
    "&= \\prod_{i = 1}^{m} (h(x^{(i)}))^{y^{(i)}} (1 - h(x^{(i)}))^{1 - y^{(i)}}\n",
    "\\end{align*}\n",
    "$$\n",
    "\n",
    "Reminder: $h(x)$ depends on $\\theta$ but it is omitted for improved tidiness.\n",
    "\n",
    "We can apply any strictly monotonic function to likelihood and find its maxima instead. For computational easiness, we often consider log-likelihood $\\ell(\\theta)$, which is equal to $\\log \\left(L(\\theta)\\right)$.\n",
    "$$\n",
    "\\ell (\\theta) = \\sum_{i = 1}^m y^{(i)} \\log h(x^{(i)}) + (1 - y^{(i)}) \\log (1 - h(x^{(i)}))\n",
    "$$\n",
    "\n",
    "Since we want to maximize this function, we will consider its gradient. We can substitute the sigmoid function for $h$ and get that each partial derivative is then:\n",
    "$$\n",
    "\\frac{\\partial}{\\partial \\theta_j}\\ell(\\theta) = (y - h(x))x_j \\quad (\\text{for every }j = 0, \\dots, n)\n",
    "$$\n",
    "\n",
    "Finally, the update rule for the gradient ascent in logistic regression:\n",
    "$$\n",
    "\\theta_j := \\theta_j + \\alpha \\sum_{i = 1}^{m} (y^{(i)} - h_\\theta(x^{(i)}) ) x^{(i)}_j \\quad (\\text{for every }j = 0, \\dots, n)\n",
    "$$\n",
    "\n",
    "The format of the derivative is exactly the same as in linear regression, which is actually the case for all generalized linear models (GLMs). What's different, though, is the hypothesis function $h_\\theta(x)$ that is now equal to $g(\\theta^T x)$ rather than $\\theta^T x$.\n"
   ]
  },
  {
   "cell_type": "code",
   "execution_count": 4,
   "metadata": {},
   "outputs": [],
   "source": [
    "def sigmoid(z):\n",
    "\treturn 1 / (1 + np.exp(-z))\n",
    "\n",
    "\n",
    "def negative_log_likelihood(theta, X, y):\n",
    "\t# Compact notation\n",
    "\te = 0.000001\n",
    "\th = sigmoid(X @ theta)\n",
    "\t# We return negative log likelihood since we're minimizing with SciPy\n",
    "\treturn (-np.dot(y, np.log(h + e)) - np.dot(1 - y, np.log(1 - h + e)))\n",
    "\n",
    "\n",
    "def gradient(theta, X, y):\n",
    "\tresiduals = sigmoid(X @ theta) - y\n",
    "\treturn X.T @ residuals / len(y)"
   ]
  },
  {
   "cell_type": "code",
   "execution_count": 5,
   "metadata": {},
   "outputs": [
    {
     "name": "stdout",
     "output_type": "stream",
     "text": [
      "[-45.279744     5.75562411  10.44790851]\n"
     ]
    }
   ],
   "source": [
    "initial_guess = np.zeros(X.shape[1])\n",
    "res = scipy.optimize.minimize(fun=negative_log_likelihood, x0=initial_guess, args=(X, y), jac=gradient, method='BFGS')\n",
    "theta = res.x\n",
    "\n",
    "print(theta)"
   ]
  },
  {
   "cell_type": "code",
   "execution_count": 6,
   "metadata": {},
   "outputs": [
    {
     "name": "stdout",
     "output_type": "stream",
     "text": [
      "0.94\n"
     ]
    }
   ],
   "source": [
    "probabilities = sigmoid(X @ theta)\n",
    "predictions = np.where(probabilities >= 0.5, 1, 0)\n",
    "\n",
    "n_correct = np.count_nonzero(predictions == y)\n",
    "accuracy = n_correct / len(y)\n",
    "\n",
    "print(accuracy)"
   ]
  },
  {
   "cell_type": "markdown",
   "metadata": {},
   "source": [
    "To visualize the decision boundary, we will solve $h(\\theta^T X) = 0.5$. We get $\\theta^T X = 0$, or, with two features:\n",
    "$$\n",
    "\\theta_0 + \\theta_1 x_1 + \\theta_2 x_2 = 0\n",
    "$$\n",
    "\n",
    "We can solve for $x_2$:\n",
    "$$\n",
    "x_2 = -\\frac{\\theta_0 + \\theta_1 x_1}{\\theta_2}\n",
    "$$"
   ]
  },
  {
   "cell_type": "code",
   "execution_count": 7,
   "metadata": {},
   "outputs": [],
   "source": [
    "def y_val(x, theta):\n",
    "\treturn -(theta[0] + theta[1] * x) / theta[2]"
   ]
  },
  {
   "cell_type": "code",
   "execution_count": 8,
   "metadata": {},
   "outputs": [
    {
     "data": {
      "image/png": "[encoded data removed]",
      "text/plain": [
       "<Figure size 640x480 with 1 Axes>"
      ]
     },
     "metadata": {},
     "output_type": "display_data"
    },
    {
     "name": "stdout",
     "output_type": "stream",
     "text": [
      "Note that some points are occluded.\n"
     ]
    }
   ],
   "source": [
    "x_vals = np.arange(np.min(X[:, 1]), np.max(X[:, 1]))\n",
    "y_vals = y_val(x_vals, theta)\n",
    "\n",
    "for lbl in np.unique(y):\n",
    "\tplt.scatter(X[y == lbl, 1], X[y == lbl, 2], label=f'Class {lbl}', s=12)\n",
    "\n",
    "plt.plot(x_vals, y_vals, 'r')\n",
    "\n",
    "plt.xlabel(\"Petal length (cm)\")\n",
    "plt.ylabel(\"Petal width (cm)\")\n",
    "plt.title(f\"Relation between petal length and width, two classes\\nTraining accuracy={accuracy}\")\n",
    "\n",
    "plt.ylim(None, 3)\n",
    "plt.legend()\n",
    "plt.show()\n",
    "\n",
    "print(\"Note that some points are occluded.\")"
   ]
  }
 ],
 "metadata": {
  "kernelspec": {
   "display_name": ".venv",
   "language": "python",
   "name": "python3"
  },
  "language_info": {
   "codemirror_mode": {
    "name": "ipython",
    "version": 3
   },
   "file_extension": ".py",
   "mimetype": "text/x-python",
   "name": "python",
   "nbconvert_exporter": "python",
   "pygments_lexer": "ipython3",
   "version": "3.12.7"
  }
 },
 "nbformat": 4,
 "nbformat_minor": 2
}
